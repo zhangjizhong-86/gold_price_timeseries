{
 "cells": [
  {
   "cell_type": "code",
   "execution_count": 20,
   "metadata": {},
   "outputs": [],
   "source": [
    "import requests\n",
    "from bs4 import BeautifulSoup\n",
    "import pymysql\n",
    "import json\n",
    "from datetime import datetime\n",
    "import logging\n",
    "from logging.handlers import RotatingFileHandler\n",
    "from logging.config import fileConfig\n",
    "import pytz"
   ]
  },
  {
   "cell_type": "code",
   "execution_count": 21,
   "metadata": {},
   "outputs": [],
   "source": [
    "url = 'https://data-asg.goldprice.org/dbXRates/USD,CNY'\n",
    "convert_denom = 31.1030 # oz → g\n",
    "LOG_LEVEL = logging.INFO\n",
    "LOG_FORMAT = \"%(asctime)s [%(levelname)s]: %(message)s\"  \n",
    "LOG_FILE = 'au_ag_price.log'\n",
    "LOG_MODE = 'a'  \n",
    "LOG_MAX_SIZE = 1024*1024 # 1MB\n",
    "LOG_MAX_FILES = 1 # 1 File only"
   ]
  },
  {
   "cell_type": "code",
   "execution_count": 22,
   "metadata": {},
   "outputs": [],
   "source": [
    "def get_price():\n",
    "    response = requests.get(url)\n",
    "    dict_response = json.loads(response.text)\n",
    "    time = datetime.fromtimestamp(dict_response['tsj'] / 1000, pytz.timezone('Asia/Shanghai')).strftime('%Y-%m-%d %H:%M:%S')\n",
    "    xauPrice = dict_response['items'][0]['xauPrice'] / convert_denom\n",
    "    xagPrice = dict_response['items'][0]['xagPrice'] / convert_denom\n",
    "    return time, xauPrice, xagPrice"
   ]
  },
  {
   "cell_type": "code",
   "execution_count": 23,
   "metadata": {},
   "outputs": [],
   "source": [
    "def to_db(time, xauPrice, xagPrice):\n",
    "    conn = None\n",
    "    try:\n",
    "        conn = pymysql.connect(host='localhost',\n",
    "                               port=3306,\n",
    "                               user='root',\n",
    "                               password='mysql',\n",
    "                               db='test',\n",
    "                               charset='utf8',\n",
    "                               cursorclass=pymysql.cursors.DictCursor)\n",
    "        Logger.info('连接数据库成功。') \n",
    "        with conn.cursor() as c:\n",
    "            insert_sql = 'insert ignore into au_ag_price values(%s,%s,%s)'\n",
    "            c.execute(insert_sql, (time, round(xauPrice, 2), round(xagPrice, 2)))\n",
    "            conn.commit()\n",
    "            Logger.info('写数据库成功。') \n",
    "    except Exception as e:\n",
    "        Logger.error('写数据库出错：' + str(e)) \n",
    "    finally:\n",
    "        if conn:\n",
    "            conn.close()\n",
    "        Logger.info('关闭数据库。') "
   ]
  },
  {
   "cell_type": "code",
   "execution_count": 24,
   "metadata": {},
   "outputs": [],
   "source": [
    "if __name__ == '__main__':\n",
    "    # 开启日志\n",
    "    formatter = logging.Formatter(LOG_FORMAT)\n",
    "    handler = RotatingFileHandler(LOG_FILE, LOG_MODE, LOG_MAX_SIZE, LOG_MAX_FILES)    \n",
    "    handler.setFormatter(formatter)  \n",
    "    Logger = logging.getLogger()  \n",
    "    Logger.setLevel(LOG_LEVEL)  \n",
    "    Logger.addHandler(handler) \n",
    "    \n",
    "    time, xauPrice, xagPrice = get_price()\n",
    "    Logger.info('抓取价格…') \n",
    "    to_db(time, xauPrice, xagPrice)"
   ]
  },
  {
   "cell_type": "code",
   "execution_count": null,
   "metadata": {},
   "outputs": [],
   "source": []
  }
 ],
 "metadata": {
  "kernelspec": {
   "display_name": "Python 3",
   "language": "python",
   "name": "python3"
  },
  "language_info": {
   "codemirror_mode": {
    "name": "ipython",
    "version": 3
   },
   "file_extension": ".py",
   "mimetype": "text/x-python",
   "name": "python",
   "nbconvert_exporter": "python",
   "pygments_lexer": "ipython3",
   "version": "3.6.6"
  },
  "toc": {
   "base_numbering": 1,
   "nav_menu": {},
   "number_sections": true,
   "sideBar": true,
   "skip_h1_title": false,
   "title_cell": "Table of Contents",
   "title_sidebar": "Contents",
   "toc_cell": false,
   "toc_position": {},
   "toc_section_display": true,
   "toc_window_display": false
  },
  "varInspector": {
   "cols": {
    "lenName": "100",
    "lenType": 16,
    "lenVar": "50"
   },
   "kernels_config": {
    "python": {
     "delete_cmd_postfix": "",
     "delete_cmd_prefix": "del ",
     "library": "var_list.py",
     "varRefreshCmd": "print(var_dic_list())"
    },
    "r": {
     "delete_cmd_postfix": ") ",
     "delete_cmd_prefix": "rm(",
     "library": "var_list.r",
     "varRefreshCmd": "cat(var_dic_list()) "
    }
   },
   "oldHeight": 290.88081800000003,
   "position": {
    "height": "40px",
    "left": "1376.45px",
    "right": "20px",
    "top": "109.994px",
    "width": "350px"
   },
   "types_to_exclude": [
    "module",
    "function",
    "builtin_function_or_method",
    "instance",
    "_Feature"
   ],
   "varInspector_section_display": "none",
   "window_display": true
  }
 },
 "nbformat": 4,
 "nbformat_minor": 2
}
